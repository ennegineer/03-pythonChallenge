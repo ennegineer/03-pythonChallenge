{
 "cells": [
  {
   "cell_type": "code",
   "execution_count": 6,
   "metadata": {},
   "outputs": [
    {
     "name": "stdout",
     "output_type": "stream",
     "text": [
      "Financial Analysis\n",
      "---------------------------------\n",
      "Total Months: 86\n",
      "Total: $38,382,578.00\n",
      "Average Change: $-2,288.20\n",
      "Greatest Increase in Profits: Feb-2012 $1,926,159.00\n",
      "Greatest Decrease in Profits: Sep-2013 $-2,196,167.00\n"
     ]
    }
   ],
   "source": [
    "import os\n",
    "import csv\n",
    "\n",
    "# Grab CSV file from the Resources folder\n",
    "pybank = os.path.join('.', 'Resources', 'budget_data.csv')\n",
    "\n",
    "data = []\n",
    "# Read the CSV file\n",
    "with open(pybank, 'r') as budgetfile:\n",
    "    csvreader = csv.reader(budgetfile, delimiter=',')\n",
    "    header = next(csvreader)\n",
    "\n",
    "    # Put data into a list 'data'\n",
    "    for row in csvreader:\n",
    "        data.append(row)\n",
    "        \n",
    "#   The total number of months included in the dataset    \n",
    "totalMonths = len(data)\n",
    "    \n",
    "#  The net total amount of \"Profit/Losses\" over the entire period   \n",
    "totalPL = 0\n",
    "totalChanges = 0\n",
    "highestRow = [0,0,0]\n",
    "lowestRow = [0,0,0]\n",
    "    \n",
    "for index,row in enumerate(data):\n",
    "    totalPL = totalPL + int(row[1])\n",
    "    # Calculate the changes in \"Profit/Losses\" over the entire period, then find the average of those changes\n",
    "    if index == 0:\n",
    "        # Create a new column for the change, calculate changes from one month to the next\n",
    "        row.append(0)\n",
    "    else:\n",
    "        # Find the average of the changes (the new column)\n",
    "        row.append(int(data[index][1]) - int(data[index-1][1]))\n",
    "        #  The greatest increase in profits (date and amount) over the entire period\n",
    "        if row[2] > highestRow[2]:\n",
    "            highestRow = row\n",
    "        #  The greatest decrease in profits (date and amount) over the entire period\n",
    "        if row[2] < lowestRow[2]:\n",
    "            lowestRow = row\n",
    "    totalChanges = totalChanges + int(row[2])\n",
    "\n",
    "def currency(var):\n",
    "    return(\"${:,.2f}\".format(var))      \n",
    "\n",
    "print(\"Financial Analysis\")\n",
    "print(\"---------------------------------\")\n",
    "print(f\"Total Months: {totalMonths}\")\n",
    "print(f\"Total: {currency(totalPL)}\")\n",
    "print(f\"Average Change: {currency(totalChanges/totalMonths)}\")\n",
    "print(f\"Greatest Increase in Profits: {highestRow[0]} {currency(highestRow[2])}\")\n",
    "print(f\"Greatest Decrease in Profits: {lowestRow[0]} {currency(lowestRow[2])}\")\n",
    "        \n",
    "# Create output txt file in Analysis folder\n",
    "output = os.path.join(\".\", \"Analysis\", \"output.csv\")\n",
    "with open(output, 'w', newline='') as output_file:\n",
    "    csvwriter = csv.writer(output_file, delimiter=',')\n",
    "    csvwriter.writerow(['Month','Profit/Losses', 'Change in P/L'])\n",
    "    csvwriter.writerows(data)"
   ]
  },
  {
   "cell_type": "code",
   "execution_count": null,
   "metadata": {},
   "outputs": [],
   "source": []
  }
 ],
 "metadata": {
  "kernelspec": {
   "display_name": "Python 3",
   "language": "python",
   "name": "python3"
  },
  "language_info": {
   "codemirror_mode": {
    "name": "ipython",
    "version": 3
   },
   "file_extension": ".py",
   "mimetype": "text/x-python",
   "name": "python",
   "nbconvert_exporter": "python",
   "pygments_lexer": "ipython3",
   "version": "3.8.3"
  }
 },
 "nbformat": 4,
 "nbformat_minor": 4
}
