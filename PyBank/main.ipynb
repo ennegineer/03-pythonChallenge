{
 "cells": [
  {
   "cell_type": "code",
   "execution_count": 84,
   "metadata": {},
   "outputs": [
    {
     "name": "stdout",
     "output_type": "stream",
     "text": [
      "Financial Analysis\n",
      "---------------------------------\n",
      "Total Months: 86\n",
      "Total: $38,382,578.00\n",
      "Average Change: $-2,288.20\n",
      "Greatest Increase in Profits: Date (amount)\n",
      "Greatest Decrease in Profits: Date (amount) \n"
     ]
    }
   ],
   "source": [
    "import os\n",
    "import csv\n",
    "\n",
    "# Grab CSV file from the Resources folder\n",
    "pybank = os.path.join('.', 'Resources', 'budget_data.csv')\n",
    "\n",
    "# Read the CSV file\n",
    "with open(pybank, 'r') as budgetfile:\n",
    "    csvreader = csv.reader(budgetfile, delimiter=',')\n",
    "    header = next(csvreader)\n",
    "    \n",
    "    data = []\n",
    "    for row in csvreader:\n",
    "        data.append(row)\n",
    "#       print(row)\n",
    "#    print(data)\n",
    "        \n",
    "#   The total number of months included in the dataset    \n",
    "    totalMonths = len(data)\n",
    "    \n",
    "#  The net total amount of \"Profit/Losses\" over the entire period   \n",
    "    totalPL = 0\n",
    "    totalChanges = 0\n",
    "    for index,row in enumerate(data):\n",
    "        totalPL = totalPL + int(row[1])\n",
    "        # Calculate the changes in \"Profit/Losses\" over the entire period, then find the average of those changes\n",
    "        if index > 0:\n",
    "            # Create a new column for the change, calculate changes from one month to the next\n",
    "            row.append(int(data[index][1]) - int(data[index-1][1]))\n",
    "            totalChanges = totalChanges + int(row[2])\n",
    "    total = \"${:,.2f}\".format(totalPL)\n",
    "    avg = \"${:,.2f}\".format(totalChanges/totalMonths)\n",
    "\n",
    "#  Find the average of the changes (the new column)\n",
    "    #avg = sum(int(data[2]))/len(int(data[2]))\n",
    "#  The greatest increase in profits (date and amount) over the entire period\n",
    "    # max in new column\n",
    "#  The greatest decrease in profits (date and amount) over the entire period\n",
    "    # min in new column\n",
    "\n",
    "print(\"Financial Analysis\")\n",
    "print(\"---------------------------------\")\n",
    "print(f\"Total Months: {totalMonths}\")\n",
    "print(f\"Total: {total}\")\n",
    "print(f\"Average Change: {avg}\")\n",
    "print(f\"Greatest Increase in Profits: Date (amount)\")\n",
    "print(f\"Greatest Decrease in Profits: Date (amount) \")\n",
    "        \n",
    "# Create output txt file in Analysis folder\n",
    "output = os.path.join(\".\", \"Analysis\", \"output.txt\")\n",
    "with open(output, 'w', newline='') as output_file:\n",
    "    csvwriter = csv.writer(output_file, delimiter=',')\n",
    "    csvwriter.writerow(['Month','Profit/Losses', 'Change in P/L'])\n",
    "    # csvwriter.writerows(variablenamefortuple)"
   ]
  },
  {
   "cell_type": "code",
   "execution_count": null,
   "metadata": {},
   "outputs": [],
   "source": [
    "#  * As an example, your analysis should look similar to the one below:\n",
    "\n",
    "#  Financial Analysis\n",
    "#  ----------------------------\n",
    "#  Total Months: 86\n",
    "#  Total: $38382578\n",
    "#  Average Change: $-2315.12\n",
    "#  Greatest Increase in Profits: Feb-2012 ($1926159)\n",
    "#  Greatest Decrease in Profits: Sep-2013 ($-2196167)\n",
    "\n",
    "# * In addition, your final script should both print the analysis to the terminal and export a text file with the results.\n",
    "\n",
    "#def budget(bankdata):\n",
    "#    month = str(bankdata[0])\n",
    "#    PL = int(bankdata[1])\n",
    "#    print(bankdata[1])"
   ]
  }
 ],
 "metadata": {
  "kernelspec": {
   "display_name": "Python 3",
   "language": "python",
   "name": "python3"
  },
  "language_info": {
   "codemirror_mode": {
    "name": "ipython",
    "version": 3
   },
   "file_extension": ".py",
   "mimetype": "text/x-python",
   "name": "python",
   "nbconvert_exporter": "python",
   "pygments_lexer": "ipython3",
   "version": "3.8.3"
  }
 },
 "nbformat": 4,
 "nbformat_minor": 4
}
