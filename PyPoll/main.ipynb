{
 "cells": [
  {
   "cell_type": "code",
   "execution_count": 4,
   "metadata": {},
   "outputs": [
    {
     "name": "stdout",
     "output_type": "stream",
     "text": [
      "['Voter ID', 'County', 'Candidate']\n"
     ]
    }
   ],
   "source": [
    "import os\n",
    "import csv\n",
    "\n",
    "# Grab CSV file from the Resources folder\n",
    "pypoll = os.path.join('.', 'Resources', 'election_data.csv')\n",
    "\n",
    "data = []\n",
    "# Read the CSV file\n",
    "with open(pypoll, 'r') as datafile:\n",
    "    csvreader = csv.reader(datafile, delimiter=',')\n",
    "    header = next(csvreader)\n",
    "\n",
    "    # Put data into a list 'data'\n",
    "    for row in csvreader:\n",
    "        data.append(row)\n",
    "\n",
    "    print(header)"
   ]
  },
  {
   "cell_type": "code",
   "execution_count": 48,
   "metadata": {},
   "outputs": [
    {
     "name": "stdout",
     "output_type": "stream",
     "text": [
      "Candidates: {'Correy', \"O'Tooley\", 'Khan', 'Li'}\n",
      "Winner: Khan\n",
      " \n",
      "Election Results\n",
      "---------------------\n",
      "Total Votes: 3521001\n",
      "---------------------\n",
      "Khan: 63% (2218231) \n",
      "Correy: 20% (704200)\n",
      "Li: 14% (492940)\n",
      "O'Tooley: 3% (105630)\n",
      "---------------------\n",
      "Winner: Khan\n",
      "---------------------\n"
     ]
    }
   ],
   "source": [
    "Candidate = [row[2] for row in data]\n",
    "\n",
    "# Find the total number of votes\n",
    "totalvotes = len(Candidate)\n",
    "\n",
    "# Find all Candidates\n",
    "Candidates = set(Candidate)\n",
    "print(f\"Candidates: {Candidates}\")\n",
    "\n",
    "# Find number of votes each candidate received\n",
    "Correy = len([elem for elem in Candidate if elem == \"Correy\"])\n",
    "OTooley = len([elem for elem in Candidate if elem == \"O'Tooley\"])\n",
    "Khan = len([elem for elem in Candidate if elem == \"Khan\"])\n",
    "Li = len([elem for elem in Candidate if elem == \"Li\"])\n",
    "\n",
    "# Percentage of votes won by each candidate\n",
    "def percentage(name):\n",
    "    return \"{:.0%}\".format((name/totalvotes))\n",
    "\n",
    "# Winner by popular vote\n",
    "def winner(CandidateList):\n",
    "    return max(set(CandidateList), key = CandidateList.count)\n",
    "\n",
    "print(f\"Winner: {winner(Candidate)}\")\n",
    "print(\" \")\n",
    "print(\"Election Results\")\n",
    "print(\"---------------------\")\n",
    "print(f\"Total Votes: {totalvotes}\")\n",
    "print(\"---------------------\")\n",
    "print(f\"Khan: {percentage(Khan)} ({Khan}) \")\n",
    "print(f\"Correy: {percentage(Correy)} ({Correy})\")\n",
    "print(f\"Li: {percentage(Li)} ({Li})\")\n",
    "print(f\"O'Tooley: {percentage(OTooley)} ({OTooley})\")\n",
    "print(\"---------------------\")\n",
    "print(f\"Winner: {winner(Candidate)}\")\n",
    "print(\"---------------------\")\n",
    "\n",
    "# Create output txt file in Analysis folder\n",
    "output = os.path.join(\".\", \"Analysis\", \"output.txt\")\n",
    "with open(output, 'w', newline='') as output_file:\n",
    "    csvwriter = csv.writer(output_file, delimiter=' ')\n",
    "    csvwriter.writerow(['Election'] + ['Results'])\n",
    "    csvwriter.writerow([\"---------------------\"])\n",
    "    csvwriter.writerow(['Total'] + ['Votes:'] + [totalvotes])\n",
    "    csvwriter.writerow([\"---------------------\"])\n",
    "    csvwriter.writerow(['Khan:'] + [percentage(Khan)] + ([Khan]))\n",
    "    csvwriter.writerow(['Correy:'] + [percentage(Correy)] + ([Correy]))\n",
    "    csvwriter.writerow(['Li:'] + [percentage(Li)] + ([Li]))\n",
    "    csvwriter.writerow([\"O'Tooley:\"] + [percentage(OTooley)] + ([OTooley]))\n",
    "    csvwriter.writerow([\"---------------------\"])\n",
    "    csvwriter.writerow(['Winner:'] + [winner(Candidate)])\n",
    "    csvwriter.writerow([\"---------------------\"])"
   ]
  },
  {
   "cell_type": "code",
   "execution_count": null,
   "metadata": {},
   "outputs": [],
   "source": []
  }
 ],
 "metadata": {
  "kernelspec": {
   "display_name": "Python 3",
   "language": "python",
   "name": "python3"
  },
  "language_info": {
   "codemirror_mode": {
    "name": "ipython",
    "version": 3
   },
   "file_extension": ".py",
   "mimetype": "text/x-python",
   "name": "python",
   "nbconvert_exporter": "python",
   "pygments_lexer": "ipython3",
   "version": "3.8.3"
  }
 },
 "nbformat": 4,
 "nbformat_minor": 4
}
